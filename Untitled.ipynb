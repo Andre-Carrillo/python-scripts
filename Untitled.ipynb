{
 "cells": [
  {
   "cell_type": "code",
   "execution_count": 2,
   "id": "52ee2cce",
   "metadata": {
    "scrolled": true
   },
   "outputs": [
    {
     "data": {
      "text/html": [
       "<pre style=\"white-space:pre;overflow-x:auto;line-height:normal;font-family:Menlo,'DejaVu Sans Mono',consolas,'Courier New',monospace\">Manim Community <span style=\"color: #008000; text-decoration-color: #008000\">v0.14.0</span>\n",
       "\n",
       "</pre>\n"
      ],
      "text/plain": [
       "Manim Community \u001b[32mv0.\u001b[0m\u001b[32m14.0\u001b[0m\n",
       "\n"
      ]
     },
     "metadata": {},
     "output_type": "display_data"
    }
   ],
   "source": [
    "from manim import *"
   ]
  },
  {
   "cell_type": "code",
   "execution_count": 23,
   "id": "11707b10",
   "metadata": {},
   "outputs": [
    {
     "name": "stderr",
     "output_type": "stream",
     "text": [
      "                                                                                                                              \r"
     ]
    },
    {
     "data": {
      "text/html": [
       "<video src=\"media\\jupyter\\CircleToSquare@2022-01-29@15-15-07.mp4\" controls autoplay loop style=\"max-width: 60%;\"  >\n",
       "      Your browser does not support the <code>video</code> element.\n",
       "    </video>"
      ],
      "text/plain": [
       "<IPython.core.display.Video object>"
      ]
     },
     "metadata": {},
     "output_type": "display_data"
    }
   ],
   "source": [
    "%%manim -v WARNING -qm CircleToSquare\n",
    "\n",
    "class CircleToSquare(Scene):\n",
    "    def construct(self):\n",
    "        blue_circle = Circle(color=BLUE, fill_opacity=0.5)\n",
    "        green_square = Square(color=GREEN, fill_opacity=0.8)\n",
    "        \n",
    "        label=Text(\"A wild circle appears!\")\n",
    "        label.next_to(blue_circle, UP)\n",
    "        \n",
    "        self.play(Write(label))\n",
    "        self.wait()\n",
    "        self.play(Create(blue_circle))        \n",
    "        self.play(ReplacementTransform(blue_circle, green_square))\n",
    "        self.play(Rotate(green_square, angle=PI))\n",
    "        self.play(green_square.animate.set_fill(RED).rotate(3*PI/2))\n",
    "        self.play(FadeOut(green_square))\n",
    "        \n",
    "        \n",
    "        self.wait(1)"
   ]
  },
  {
   "cell_type": "code",
   "execution_count": 6,
   "id": "7f40af22",
   "metadata": {},
   "outputs": [
    {
     "name": "stderr",
     "output_type": "stream",
     "text": [
      "                                                                                                                              \r"
     ]
    },
    {
     "data": {
      "text/html": [
       "<video src=\"media\\jupyter\\Counting@2022-01-29@15-58-42.mp4\" controls autoplay loop style=\"max-width: 60%;\"  >\n",
       "      Your browser does not support the <code>video</code> element.\n",
       "    </video>"
      ],
      "text/plain": [
       "<IPython.core.display.Video object>"
      ]
     },
     "metadata": {},
     "output_type": "display_data"
    }
   ],
   "source": [
    "%%manim -v WARNING -qm Counting\n",
    "\n",
    "class Count(Animation):\n",
    "    def __init__(self, number, start, end, **kwargs):\n",
    "        super().__init__(number, **kwargs)\n",
    "        self.number=number\n",
    "        self.start=start\n",
    "        self.end=end\n",
    "    def interpolate_mobject(self, alpha):\n",
    "        value=self.start+(alpha*(self.end-self.start))\n",
    "        self.mobject.set_value(value)\n",
    "        #self.number=value\n",
    "\n",
    "class Counting(Scene):\n",
    "    def construct(self):\n",
    "        number=DecimalNumber().scale(4)\n",
    "        self.add(number)\n",
    "        self.play(Count(number, 0, 50, run_time=3))\n",
    "        \n",
    "        self.wait(1)"
   ]
  },
  {
   "cell_type": "code",
   "execution_count": 23,
   "id": "f74ae036",
   "metadata": {},
   "outputs": [
    {
     "name": "stdout",
     "output_type": "stream",
     "text": [
      "3.0\n"
     ]
    },
    {
     "data": {
      "text/html": [
       "<video src=\"media\\jupyter\\CircleToSquare@2022-01-29@16-09-59.mp4\" controls autoplay loop style=\"max-width: 60%;\"  >\n",
       "      Your browser does not support the <code>video</code> element.\n",
       "    </video>"
      ],
      "text/plain": [
       "<IPython.core.display.Video object>"
      ]
     },
     "metadata": {},
     "output_type": "display_data"
    }
   ],
   "source": [
    "%%manim -v WARNING -qm CircleToSquare\n",
    "\n",
    "class CircleToSquare(Scene):\n",
    "    def construct(self):\n",
    "        grid=NumberPlane()\n",
    "        vec=Arrow(ORIGIN, [3, 2, 0], buff=0)\n",
    "        vec_text=Text(f\"{tuple([float(i) for i in vec.get_end()][0:2])}\").next_to(vec.get_end(), RIGHT)\n",
    "        print(float(vec.get_end()[0]))\n",
    "        \n",
    "        self.add(grid, vec, vec_text)\n",
    "        self.wait(2)"
   ]
  }
 ],
 "metadata": {
  "kernelspec": {
   "display_name": "Python 3 (ipykernel)",
   "language": "python",
   "name": "python3"
  },
  "language_info": {
   "codemirror_mode": {
    "name": "ipython",
    "version": 3
   },
   "file_extension": ".py",
   "mimetype": "text/x-python",
   "name": "python",
   "nbconvert_exporter": "python",
   "pygments_lexer": "ipython3",
   "version": "3.10.2"
  }
 },
 "nbformat": 4,
 "nbformat_minor": 5
}
