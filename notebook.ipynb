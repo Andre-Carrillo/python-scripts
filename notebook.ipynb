{
 "cells": [
  {
   "cell_type": "code",
   "metadata": {
    "tags": [],
    "cell_id": "4aea1366-a53d-4f34-b6a6-5858a3554eea",
    "deepnote_to_be_reexecuted": false,
    "source_hash": "d5eb4ae1",
    "execution_start": 1645540961874,
    "execution_millis": 24,
    "deepnote_cell_type": "code"
   },
   "source": "#Start \nimport pandas as pd\nimport numpy as np\n\nprof_df = pd.read_csv('prof.csv')\nclass_df = pd.read_csv('class.csv')",
   "execution_count": 2,
   "outputs": []
  },
  {
   "cell_type": "code",
   "metadata": {
    "cell_id": "c5335a37-9584-4132-a538-648fa7e2d492",
    "tags": [],
    "deepnote_to_be_reexecuted": false,
    "source_hash": "5faff7c0",
    "execution_start": 1645540961906,
    "execution_millis": 18,
    "deepnote_cell_type": "code"
   },
   "source": "prof_df['cursos']=prof_df['cursos'].apply(lambda x:str(x).split(' '))\nprof_df['nodays']=prof_df['nodays'].apply(lambda x:str(x).split(' '))\n# prof_df['nohours']=prof_df['nohours'].apply(lambda x:[int(i) for i in x.split(' ')])\nprof_df['nohours']=prof_df['nohours'].apply(lambda x:[int(i) for i in str(x).split(' ') if i!='nan'])\nprof_df['noclasses']=prof_df['noclasses'].apply(lambda x:[int(i) for i in str(x).split(' ') if i!='nan'])",
   "execution_count": 3,
   "outputs": []
  },
  {
   "cell_type": "code",
   "metadata": {
    "cell_id": "300f660f-f644-4f23-a764-541b48f6794d",
    "tags": [],
    "deepnote_to_be_reexecuted": false,
    "source_hash": "3fb9b22b",
    "execution_start": 1645540961931,
    "execution_millis": 96,
    "deepnote_cell_type": "code"
   },
   "source": "prof_df",
   "execution_count": 4,
   "outputs": [
    {
     "output_type": "execute_result",
     "execution_count": 4,
     "data": {
      "application/vnd.deepnote.dataframe.v3+json": {
       "column_count": 5,
       "row_count": 2,
       "columns": [
        {
         "name": "prof",
         "dtype": "object",
         "stats": {
          "unique_count": 2,
          "nan_count": 0,
          "categories": [
           {
            "name": "Ana",
            "count": 1
           },
           {
            "name": "Agusto",
            "count": 1
           }
          ]
         }
        },
        {
         "name": "cursos",
         "dtype": "object",
         "stats": {
          "unique_count": 2,
          "nan_count": 0,
          "categories": [
           {
            "name": "['ortografía', 'lenguaje']",
            "count": 1
           },
           {
            "name": "['matemática', 'rm']",
            "count": 1
           }
          ]
         }
        },
        {
         "name": "nodays",
         "dtype": "object",
         "stats": {
          "unique_count": 2,
          "nan_count": 0,
          "categories": [
           {
            "name": "['L', 'V']",
            "count": 1
           },
           {
            "name": "['L']",
            "count": 1
           }
          ]
         }
        },
        {
         "name": "nohours",
         "dtype": "object",
         "stats": {
          "unique_count": 2,
          "nan_count": 0,
          "categories": [
           {
            "name": "[1, 4, 2]",
            "count": 1
           },
           {
            "name": "[]",
            "count": 1
           }
          ]
         }
        },
        {
         "name": "noclasses",
         "dtype": "object",
         "stats": {
          "unique_count": 2,
          "nan_count": 0,
          "categories": [
           {
            "name": "[6, 10]",
            "count": 1
           },
           {
            "name": "[]",
            "count": 1
           }
          ]
         }
        },
        {
         "name": "_deepnote_index_column",
         "dtype": "int64"
        }
       ],
       "rows": [
        {
         "prof": "Ana",
         "cursos": "['ortografía', 'lenguaje']",
         "nodays": "['L', 'V']",
         "nohours": "[1, 4, 2]",
         "noclasses": "[6, 10]",
         "_deepnote_index_column": 0
        },
        {
         "prof": "Agusto",
         "cursos": "['matemática', 'rm']",
         "nodays": "['L']",
         "nohours": "[]",
         "noclasses": "[]",
         "_deepnote_index_column": 1
        }
       ]
      },
      "text/plain": "     prof                  cursos  nodays    nohours noclasses\n0     Ana  [ortografía, lenguaje]  [L, V]  [1, 4, 2]   [6, 10]\n1  Agusto        [matemática, rm]     [L]         []        []",
      "text/html": "<div>\n<style scoped>\n    .dataframe tbody tr th:only-of-type {\n        vertical-align: middle;\n    }\n\n    .dataframe tbody tr th {\n        vertical-align: top;\n    }\n\n    .dataframe thead th {\n        text-align: right;\n    }\n</style>\n<table border=\"1\" class=\"dataframe\">\n  <thead>\n    <tr style=\"text-align: right;\">\n      <th></th>\n      <th>prof</th>\n      <th>cursos</th>\n      <th>nodays</th>\n      <th>nohours</th>\n      <th>noclasses</th>\n    </tr>\n  </thead>\n  <tbody>\n    <tr>\n      <th>0</th>\n      <td>Ana</td>\n      <td>[ortografía, lenguaje]</td>\n      <td>[L, V]</td>\n      <td>[1, 4, 2]</td>\n      <td>[6, 10]</td>\n    </tr>\n    <tr>\n      <th>1</th>\n      <td>Agusto</td>\n      <td>[matemática, rm]</td>\n      <td>[L]</td>\n      <td>[]</td>\n      <td>[]</td>\n    </tr>\n  </tbody>\n</table>\n</div>"
     },
     "metadata": {}
    }
   ]
  },
  {
   "cell_type": "code",
   "metadata": {
    "cell_id": "0b9883ee-e07f-4ce8-966b-24bf76d94a50",
    "tags": [],
    "deepnote_to_be_reexecuted": false,
    "source_hash": "edea3fcd",
    "execution_start": 1645540962040,
    "execution_millis": 30,
    "deepnote_cell_type": "code"
   },
   "source": "# class_df.query('salon==9')\nclass_df['salon'].unique()",
   "execution_count": 5,
   "outputs": [
    {
     "output_type": "execute_result",
     "execution_count": 5,
     "data": {
      "text/plain": "array([ 7,  8,  9, 10, 11])"
     },
     "metadata": {}
    }
   ]
  },
  {
   "cell_type": "code",
   "metadata": {
    "cell_id": "13748269-49a6-48a2-bc6a-a17c00d49c24",
    "tags": [],
    "deepnote_to_be_reexecuted": false,
    "source_hash": "765a4b7",
    "execution_start": 1645540962144,
    "execution_millis": 45844126,
    "deepnote_cell_type": "code"
   },
   "source": "salones={}\nfor salon in class_df['salon'].unique():\n    salones[salon]=pd.DataFrame()\n    for day in ['L', 'M', 'I', 'J', 'V']:\n        salones[salon][day]=pd.Series([None,None,None,None,None,None,None])",
   "execution_count": 6,
   "outputs": []
  },
  {
   "cell_type": "code",
   "metadata": {
    "cell_id": "797a5cbf-b4cb-4302-bfc0-0ad7c0082f55",
    "tags": [],
    "deepnote_to_be_reexecuted": false,
    "source_hash": "b8199e43",
    "execution_start": 1645540962145,
    "execution_millis": 2,
    "deepnote_cell_type": "code"
   },
   "source": "salones[7]",
   "execution_count": 7,
   "outputs": [
    {
     "output_type": "execute_result",
     "execution_count": 7,
     "data": {
      "application/vnd.deepnote.dataframe.v3+json": {
       "column_count": 5,
       "row_count": 7,
       "columns": [
        {
         "name": "L",
         "dtype": "object",
         "stats": {
          "unique_count": 0,
          "nan_count": 7,
          "categories": [
           {
            "name": "Missing",
            "count": 7
           }
          ]
         }
        },
        {
         "name": "M",
         "dtype": "object",
         "stats": {
          "unique_count": 0,
          "nan_count": 7,
          "categories": [
           {
            "name": "Missing",
            "count": 7
           }
          ]
         }
        },
        {
         "name": "I",
         "dtype": "object",
         "stats": {
          "unique_count": 0,
          "nan_count": 7,
          "categories": [
           {
            "name": "Missing",
            "count": 7
           }
          ]
         }
        },
        {
         "name": "J",
         "dtype": "object",
         "stats": {
          "unique_count": 0,
          "nan_count": 7,
          "categories": [
           {
            "name": "Missing",
            "count": 7
           }
          ]
         }
        },
        {
         "name": "V",
         "dtype": "object",
         "stats": {
          "unique_count": 0,
          "nan_count": 7,
          "categories": [
           {
            "name": "Missing",
            "count": 7
           }
          ]
         }
        },
        {
         "name": "_deepnote_index_column",
         "dtype": "int64"
        }
       ],
       "rows": [
        {
         "L": "None",
         "M": "None",
         "I": "None",
         "J": "None",
         "V": "None",
         "_deepnote_index_column": 0
        },
        {
         "L": "None",
         "M": "None",
         "I": "None",
         "J": "None",
         "V": "None",
         "_deepnote_index_column": 1
        },
        {
         "L": "None",
         "M": "None",
         "I": "None",
         "J": "None",
         "V": "None",
         "_deepnote_index_column": 2
        },
        {
         "L": "None",
         "M": "None",
         "I": "None",
         "J": "None",
         "V": "None",
         "_deepnote_index_column": 3
        },
        {
         "L": "None",
         "M": "None",
         "I": "None",
         "J": "None",
         "V": "None",
         "_deepnote_index_column": 4
        },
        {
         "L": "None",
         "M": "None",
         "I": "None",
         "J": "None",
         "V": "None",
         "_deepnote_index_column": 5
        },
        {
         "L": "None",
         "M": "None",
         "I": "None",
         "J": "None",
         "V": "None",
         "_deepnote_index_column": 6
        }
       ]
      },
      "text/plain": "      L     M     I     J     V\n0  None  None  None  None  None\n1  None  None  None  None  None\n2  None  None  None  None  None\n3  None  None  None  None  None\n4  None  None  None  None  None\n5  None  None  None  None  None\n6  None  None  None  None  None",
      "text/html": "<div>\n<style scoped>\n    .dataframe tbody tr th:only-of-type {\n        vertical-align: middle;\n    }\n\n    .dataframe tbody tr th {\n        vertical-align: top;\n    }\n\n    .dataframe thead th {\n        text-align: right;\n    }\n</style>\n<table border=\"1\" class=\"dataframe\">\n  <thead>\n    <tr style=\"text-align: right;\">\n      <th></th>\n      <th>L</th>\n      <th>M</th>\n      <th>I</th>\n      <th>J</th>\n      <th>V</th>\n    </tr>\n  </thead>\n  <tbody>\n    <tr>\n      <th>0</th>\n      <td>None</td>\n      <td>None</td>\n      <td>None</td>\n      <td>None</td>\n      <td>None</td>\n    </tr>\n    <tr>\n      <th>1</th>\n      <td>None</td>\n      <td>None</td>\n      <td>None</td>\n      <td>None</td>\n      <td>None</td>\n    </tr>\n    <tr>\n      <th>2</th>\n      <td>None</td>\n      <td>None</td>\n      <td>None</td>\n      <td>None</td>\n      <td>None</td>\n    </tr>\n    <tr>\n      <th>3</th>\n      <td>None</td>\n      <td>None</td>\n      <td>None</td>\n      <td>None</td>\n      <td>None</td>\n    </tr>\n    <tr>\n      <th>4</th>\n      <td>None</td>\n      <td>None</td>\n      <td>None</td>\n      <td>None</td>\n      <td>None</td>\n    </tr>\n    <tr>\n      <th>5</th>\n      <td>None</td>\n      <td>None</td>\n      <td>None</td>\n      <td>None</td>\n      <td>None</td>\n    </tr>\n    <tr>\n      <th>6</th>\n      <td>None</td>\n      <td>None</td>\n      <td>None</td>\n      <td>None</td>\n      <td>None</td>\n    </tr>\n  </tbody>\n</table>\n</div>"
     },
     "metadata": {}
    }
   ]
  },
  {
   "cell_type": "code",
   "metadata": {
    "cell_id": "b27209ba-6225-4415-9a82-b388b56a6fdb",
    "tags": [],
    "deepnote_to_be_reexecuted": false,
    "source_hash": "559f5e82",
    "execution_start": 1645540962192,
    "execution_millis": 1,
    "deepnote_cell_type": "code"
   },
   "source": "profesores={}\nfor profesor in  prof_df['prof']:\n    profesores[profesor]=pd.DataFrame()\n    for day in ['L', 'M', 'I', 'J', 'V']:\n        profesores[profesor][day]=pd.Series([None,None,None,None,None,None,None])",
   "execution_count": 8,
   "outputs": []
  },
  {
   "cell_type": "code",
   "metadata": {
    "cell_id": "a7d48f70-bd4a-4625-8b7c-2956e78291ed",
    "tags": [],
    "deepnote_to_be_reexecuted": false,
    "source_hash": "b71c6aaf",
    "execution_start": 1645540962194,
    "execution_millis": 22,
    "deepnote_cell_type": "code"
   },
   "source": "profesores['Ana']",
   "execution_count": 9,
   "outputs": [
    {
     "output_type": "execute_result",
     "execution_count": 9,
     "data": {
      "application/vnd.deepnote.dataframe.v3+json": {
       "column_count": 5,
       "row_count": 7,
       "columns": [
        {
         "name": "L",
         "dtype": "object",
         "stats": {
          "unique_count": 0,
          "nan_count": 7,
          "categories": [
           {
            "name": "Missing",
            "count": 7
           }
          ]
         }
        },
        {
         "name": "M",
         "dtype": "object",
         "stats": {
          "unique_count": 0,
          "nan_count": 7,
          "categories": [
           {
            "name": "Missing",
            "count": 7
           }
          ]
         }
        },
        {
         "name": "I",
         "dtype": "object",
         "stats": {
          "unique_count": 0,
          "nan_count": 7,
          "categories": [
           {
            "name": "Missing",
            "count": 7
           }
          ]
         }
        },
        {
         "name": "J",
         "dtype": "object",
         "stats": {
          "unique_count": 0,
          "nan_count": 7,
          "categories": [
           {
            "name": "Missing",
            "count": 7
           }
          ]
         }
        },
        {
         "name": "V",
         "dtype": "object",
         "stats": {
          "unique_count": 0,
          "nan_count": 7,
          "categories": [
           {
            "name": "Missing",
            "count": 7
           }
          ]
         }
        },
        {
         "name": "_deepnote_index_column",
         "dtype": "int64"
        }
       ],
       "rows": [
        {
         "L": "None",
         "M": "None",
         "I": "None",
         "J": "None",
         "V": "None",
         "_deepnote_index_column": 0
        },
        {
         "L": "None",
         "M": "None",
         "I": "None",
         "J": "None",
         "V": "None",
         "_deepnote_index_column": 1
        },
        {
         "L": "None",
         "M": "None",
         "I": "None",
         "J": "None",
         "V": "None",
         "_deepnote_index_column": 2
        },
        {
         "L": "None",
         "M": "None",
         "I": "None",
         "J": "None",
         "V": "None",
         "_deepnote_index_column": 3
        },
        {
         "L": "None",
         "M": "None",
         "I": "None",
         "J": "None",
         "V": "None",
         "_deepnote_index_column": 4
        },
        {
         "L": "None",
         "M": "None",
         "I": "None",
         "J": "None",
         "V": "None",
         "_deepnote_index_column": 5
        },
        {
         "L": "None",
         "M": "None",
         "I": "None",
         "J": "None",
         "V": "None",
         "_deepnote_index_column": 6
        }
       ]
      },
      "text/plain": "      L     M     I     J     V\n0  None  None  None  None  None\n1  None  None  None  None  None\n2  None  None  None  None  None\n3  None  None  None  None  None\n4  None  None  None  None  None\n5  None  None  None  None  None\n6  None  None  None  None  None",
      "text/html": "<div>\n<style scoped>\n    .dataframe tbody tr th:only-of-type {\n        vertical-align: middle;\n    }\n\n    .dataframe tbody tr th {\n        vertical-align: top;\n    }\n\n    .dataframe thead th {\n        text-align: right;\n    }\n</style>\n<table border=\"1\" class=\"dataframe\">\n  <thead>\n    <tr style=\"text-align: right;\">\n      <th></th>\n      <th>L</th>\n      <th>M</th>\n      <th>I</th>\n      <th>J</th>\n      <th>V</th>\n    </tr>\n  </thead>\n  <tbody>\n    <tr>\n      <th>0</th>\n      <td>None</td>\n      <td>None</td>\n      <td>None</td>\n      <td>None</td>\n      <td>None</td>\n    </tr>\n    <tr>\n      <th>1</th>\n      <td>None</td>\n      <td>None</td>\n      <td>None</td>\n      <td>None</td>\n      <td>None</td>\n    </tr>\n    <tr>\n      <th>2</th>\n      <td>None</td>\n      <td>None</td>\n      <td>None</td>\n      <td>None</td>\n      <td>None</td>\n    </tr>\n    <tr>\n      <th>3</th>\n      <td>None</td>\n      <td>None</td>\n      <td>None</td>\n      <td>None</td>\n      <td>None</td>\n    </tr>\n    <tr>\n      <th>4</th>\n      <td>None</td>\n      <td>None</td>\n      <td>None</td>\n      <td>None</td>\n      <td>None</td>\n    </tr>\n    <tr>\n      <th>5</th>\n      <td>None</td>\n      <td>None</td>\n      <td>None</td>\n      <td>None</td>\n      <td>None</td>\n    </tr>\n    <tr>\n      <th>6</th>\n      <td>None</td>\n      <td>None</td>\n      <td>None</td>\n      <td>None</td>\n      <td>None</td>\n    </tr>\n  </tbody>\n</table>\n</div>"
     },
     "metadata": {}
    }
   ]
  },
  {
   "cell_type": "code",
   "metadata": {
    "cell_id": "1954419a-640f-4f7e-b626-81d7af6d7cd0",
    "tags": [],
    "deepnote_to_be_reexecuted": false,
    "source_hash": "fb6fd5e0",
    "execution_start": 1645540962205,
    "deepnote_cell_type": "code"
   },
   "source": "#prof->curso-salon\n#para eso necesito desglosar el prof_df para que la lista de cursos sea desplegada\n#desde ahí lo mergeo con el otro",
   "execution_count": 10,
   "outputs": []
  },
  {
   "cell_type": "code",
   "metadata": {
    "cell_id": "338cdb55-58f9-4de8-a027-c1d5f6a97db8",
    "tags": [],
    "deepnote_to_be_reexecuted": false,
    "source_hash": "7b5856f8",
    "execution_start": 1645541150530,
    "execution_millis": 10,
    "deepnote_cell_type": "code"
   },
   "source": "counter=0\nprof_df_desglo=pd.DataFrame({'name':[],'curso':[],})\nfor prof_id in prof_df.index:\n    for materia in prof_df.iloc[prof_id, 1]:\n        prof_df_desglo.loc[counter]={'name':prof_df.iloc[prof_id, 0], 'curso':materia}\n        counter+=1\nprof_df_desglo",
   "execution_count": 16,
   "outputs": [
    {
     "output_type": "execute_result",
     "execution_count": 16,
     "data": {
      "application/vnd.deepnote.dataframe.v3+json": {
       "column_count": 2,
       "row_count": 4,
       "columns": [
        {
         "name": "name",
         "dtype": "object",
         "stats": {
          "unique_count": 2,
          "nan_count": 0,
          "categories": [
           {
            "name": "Ana",
            "count": 2
           },
           {
            "name": "Agusto",
            "count": 2
           }
          ]
         }
        },
        {
         "name": "curso",
         "dtype": "object",
         "stats": {
          "unique_count": 4,
          "nan_count": 0,
          "categories": [
           {
            "name": "ortografía",
            "count": 1
           },
           {
            "name": "lenguaje",
            "count": 1
           },
           {
            "name": "2 others",
            "count": 2
           }
          ]
         }
        },
        {
         "name": "_deepnote_index_column",
         "dtype": "int64"
        }
       ],
       "rows": [
        {
         "name": "Ana",
         "curso": "ortografía",
         "_deepnote_index_column": 0
        },
        {
         "name": "Ana",
         "curso": "lenguaje",
         "_deepnote_index_column": 1
        },
        {
         "name": "Agusto",
         "curso": "matemática",
         "_deepnote_index_column": 2
        },
        {
         "name": "Agusto",
         "curso": "rm",
         "_deepnote_index_column": 3
        }
       ]
      },
      "text/plain": "     name       curso\n0     Ana  ortografía\n1     Ana    lenguaje\n2  Agusto  matemática\n3  Agusto          rm",
      "text/html": "<div>\n<style scoped>\n    .dataframe tbody tr th:only-of-type {\n        vertical-align: middle;\n    }\n\n    .dataframe tbody tr th {\n        vertical-align: top;\n    }\n\n    .dataframe thead th {\n        text-align: right;\n    }\n</style>\n<table border=\"1\" class=\"dataframe\">\n  <thead>\n    <tr style=\"text-align: right;\">\n      <th></th>\n      <th>name</th>\n      <th>curso</th>\n    </tr>\n  </thead>\n  <tbody>\n    <tr>\n      <th>0</th>\n      <td>Ana</td>\n      <td>ortografía</td>\n    </tr>\n    <tr>\n      <th>1</th>\n      <td>Ana</td>\n      <td>lenguaje</td>\n    </tr>\n    <tr>\n      <th>2</th>\n      <td>Agusto</td>\n      <td>matemática</td>\n    </tr>\n    <tr>\n      <th>3</th>\n      <td>Agusto</td>\n      <td>rm</td>\n    </tr>\n  </tbody>\n</table>\n</div>"
     },
     "metadata": {}
    }
   ]
  },
  {
   "cell_type": "code",
   "metadata": {
    "cell_id": "301d7740-c2bf-4f30-9cac-bbf458e65c06",
    "tags": [],
    "deepnote_to_be_reexecuted": false,
    "source_hash": "eb05b6a2",
    "execution_start": 1645541222953,
    "execution_millis": 21,
    "deepnote_cell_type": "code"
   },
   "source": "class_df.merge(prof_df_desglo, on='curso')",
   "execution_count": 18,
   "outputs": [
    {
     "output_type": "execute_result",
     "execution_count": 18,
     "data": {
      "application/vnd.deepnote.dataframe.v3+json": {
       "column_count": 4,
       "row_count": 10,
       "columns": [
        {
         "name": "curso",
         "dtype": "object",
         "stats": {
          "unique_count": 2,
          "nan_count": 0,
          "categories": [
           {
            "name": "ortografía",
            "count": 5
           },
           {
            "name": "lenguaje",
            "count": 5
           }
          ]
         }
        },
        {
         "name": "salon",
         "dtype": "int64",
         "stats": {
          "unique_count": 5,
          "nan_count": 0,
          "min": "7",
          "max": "11",
          "histogram": [
           {
            "bin_start": 7,
            "bin_end": 7.4,
            "count": 2
           },
           {
            "bin_start": 7.4,
            "bin_end": 7.8,
            "count": 0
           },
           {
            "bin_start": 7.8,
            "bin_end": 8.2,
            "count": 2
           },
           {
            "bin_start": 8.2,
            "bin_end": 8.6,
            "count": 0
           },
           {
            "bin_start": 8.6,
            "bin_end": 9,
            "count": 0
           },
           {
            "bin_start": 9,
            "bin_end": 9.4,
            "count": 2
           },
           {
            "bin_start": 9.4,
            "bin_end": 9.8,
            "count": 0
           },
           {
            "bin_start": 9.8,
            "bin_end": 10.2,
            "count": 2
           },
           {
            "bin_start": 10.2,
            "bin_end": 10.6,
            "count": 0
           },
           {
            "bin_start": 10.6,
            "bin_end": 11,
            "count": 2
           }
          ]
         }
        },
        {
         "name": "horas",
         "dtype": "int64",
         "stats": {
          "unique_count": 2,
          "nan_count": 0,
          "min": "1",
          "max": "2",
          "histogram": [
           {
            "bin_start": 1,
            "bin_end": 1.1,
            "count": 5
           },
           {
            "bin_start": 1.1,
            "bin_end": 1.2,
            "count": 0
           },
           {
            "bin_start": 1.2,
            "bin_end": 1.3,
            "count": 0
           },
           {
            "bin_start": 1.3,
            "bin_end": 1.4,
            "count": 0
           },
           {
            "bin_start": 1.4,
            "bin_end": 1.5,
            "count": 0
           },
           {
            "bin_start": 1.5,
            "bin_end": 1.6,
            "count": 0
           },
           {
            "bin_start": 1.6,
            "bin_end": 1.7000000000000002,
            "count": 0
           },
           {
            "bin_start": 1.7000000000000002,
            "bin_end": 1.8,
            "count": 0
           },
           {
            "bin_start": 1.8,
            "bin_end": 1.9,
            "count": 0
           },
           {
            "bin_start": 1.9,
            "bin_end": 2,
            "count": 5
           }
          ]
         }
        },
        {
         "name": "name",
         "dtype": "object",
         "stats": {
          "unique_count": 1,
          "nan_count": 0,
          "categories": [
           {
            "name": "Ana",
            "count": 10
           }
          ]
         }
        },
        {
         "name": "_deepnote_index_column",
         "dtype": "int64"
        }
       ],
       "rows": [
        {
         "curso": "ortografía",
         "salon": 7,
         "horas": 1,
         "name": "Ana",
         "_deepnote_index_column": 0
        },
        {
         "curso": "ortografía",
         "salon": 8,
         "horas": 1,
         "name": "Ana",
         "_deepnote_index_column": 1
        },
        {
         "curso": "ortografía",
         "salon": 9,
         "horas": 1,
         "name": "Ana",
         "_deepnote_index_column": 2
        },
        {
         "curso": "ortografía",
         "salon": 10,
         "horas": 1,
         "name": "Ana",
         "_deepnote_index_column": 3
        },
        {
         "curso": "ortografía",
         "salon": 11,
         "horas": 1,
         "name": "Ana",
         "_deepnote_index_column": 4
        },
        {
         "curso": "lenguaje",
         "salon": 7,
         "horas": 2,
         "name": "Ana",
         "_deepnote_index_column": 5
        },
        {
         "curso": "lenguaje",
         "salon": 8,
         "horas": 2,
         "name": "Ana",
         "_deepnote_index_column": 6
        },
        {
         "curso": "lenguaje",
         "salon": 9,
         "horas": 2,
         "name": "Ana",
         "_deepnote_index_column": 7
        },
        {
         "curso": "lenguaje",
         "salon": 10,
         "horas": 2,
         "name": "Ana",
         "_deepnote_index_column": 8
        },
        {
         "curso": "lenguaje",
         "salon": 11,
         "horas": 2,
         "name": "Ana",
         "_deepnote_index_column": 9
        }
       ]
      },
      "text/plain": "        curso  salon  horas name\n0  ortografía      7      1  Ana\n1  ortografía      8      1  Ana\n2  ortografía      9      1  Ana\n3  ortografía     10      1  Ana\n4  ortografía     11      1  Ana\n5    lenguaje      7      2  Ana\n6    lenguaje      8      2  Ana\n7    lenguaje      9      2  Ana\n8    lenguaje     10      2  Ana\n9    lenguaje     11      2  Ana",
      "text/html": "<div>\n<style scoped>\n    .dataframe tbody tr th:only-of-type {\n        vertical-align: middle;\n    }\n\n    .dataframe tbody tr th {\n        vertical-align: top;\n    }\n\n    .dataframe thead th {\n        text-align: right;\n    }\n</style>\n<table border=\"1\" class=\"dataframe\">\n  <thead>\n    <tr style=\"text-align: right;\">\n      <th></th>\n      <th>curso</th>\n      <th>salon</th>\n      <th>horas</th>\n      <th>name</th>\n    </tr>\n  </thead>\n  <tbody>\n    <tr>\n      <th>0</th>\n      <td>ortografía</td>\n      <td>7</td>\n      <td>1</td>\n      <td>Ana</td>\n    </tr>\n    <tr>\n      <th>1</th>\n      <td>ortografía</td>\n      <td>8</td>\n      <td>1</td>\n      <td>Ana</td>\n    </tr>\n    <tr>\n      <th>2</th>\n      <td>ortografía</td>\n      <td>9</td>\n      <td>1</td>\n      <td>Ana</td>\n    </tr>\n    <tr>\n      <th>3</th>\n      <td>ortografía</td>\n      <td>10</td>\n      <td>1</td>\n      <td>Ana</td>\n    </tr>\n    <tr>\n      <th>4</th>\n      <td>ortografía</td>\n      <td>11</td>\n      <td>1</td>\n      <td>Ana</td>\n    </tr>\n    <tr>\n      <th>5</th>\n      <td>lenguaje</td>\n      <td>7</td>\n      <td>2</td>\n      <td>Ana</td>\n    </tr>\n    <tr>\n      <th>6</th>\n      <td>lenguaje</td>\n      <td>8</td>\n      <td>2</td>\n      <td>Ana</td>\n    </tr>\n    <tr>\n      <th>7</th>\n      <td>lenguaje</td>\n      <td>9</td>\n      <td>2</td>\n      <td>Ana</td>\n    </tr>\n    <tr>\n      <th>8</th>\n      <td>lenguaje</td>\n      <td>10</td>\n      <td>2</td>\n      <td>Ana</td>\n    </tr>\n    <tr>\n      <th>9</th>\n      <td>lenguaje</td>\n      <td>11</td>\n      <td>2</td>\n      <td>Ana</td>\n    </tr>\n  </tbody>\n</table>\n</div>"
     },
     "metadata": {}
    }
   ]
  },
  {
   "cell_type": "code",
   "metadata": {
    "cell_id": "25a61f3a-4c94-4edd-8736-895633c76ad1",
    "tags": [],
    "deepnote_to_be_reexecuted": false,
    "source_hash": "eb5846b4",
    "execution_start": 1645496409743,
    "execution_millis": 7,
    "deepnote_cell_type": "code"
   },
   "source": "#Loop from hardest to easiest prof\nfor prof_id in prof_df['nodays'].apply(len).sort_values().index:\n    profesor_row = prof_df.iloc[prof_id]\n    prof_s = profesores[profesor_row['prof']]\n    days_list = {'L', 'M', 'I', 'J', 'V'}-set(profesor_row['nodays'])\n    for day in days_list:\n        #Acá reviso lo que tienen que hacer y lo añado secuencial mente\n    print(days_list)",
   "execution_count": null,
   "outputs": [
    {
     "name": "stdout",
     "text": "{'I', 'M', 'V', 'J'}\n{'I', 'M', 'J'}\n",
     "output_type": "stream"
    }
   ]
  },
  {
   "cell_type": "markdown",
   "source": "<a style='text-decoration:none;line-height:16px;display:flex;color:#5B5B62;padding:10px;justify-content:end;' href='https://deepnote.com?utm_source=created-in-deepnote-cell&projectId=97900acb-f596-4604-9a14-e410ec4ffa76' target=\"_blank\">\n<img alt='Created in deepnote.com' style='display:inline;max-height:16px;margin:0px;margin-right:7.5px;' src='data:image/svg+xml;base64,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' > </img>\nCreated in <span style='font-weight:600;margin-left:4px;'>Deepnote</span></a>",
   "metadata": {
    "tags": [],
    "created_in_deepnote_cell": true,
    "deepnote_cell_type": "markdown"
   }
  }
 ],
 "nbformat": 4,
 "nbformat_minor": 2,
 "metadata": {
  "orig_nbformat": 2,
  "deepnote": {
   "is_reactive": false
  },
  "deepnote_notebook_id": "88c30baf-5024-4f80-a57f-a6d9e3390f60",
  "deepnote_execution_queue": []
 }
}